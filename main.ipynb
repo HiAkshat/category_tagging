{
 "cells": [
  {
   "cell_type": "code",
   "execution_count": 8,
   "metadata": {},
   "outputs": [
    {
     "name": "stdout",
     "output_type": "stream",
     "text": [
      "Index(['L1', 'L2 (Defined)', 'L2(Suggested)', 'L3', 'L2(New)', 'L3(Tagged)',\n",
      "       'L4', 'Amazon Merged  Entry'],\n",
      "      dtype='object')\n",
      "⚠️ No 'Amazon Entry' column found in beauty_and_personal_care.csv. Skipping...\n",
      "Index(['L1', 'L2 (Defined)', 'L2(Suggested)', 'L3', 'L2(New)', 'L3(Tagged)',\n",
      "       'L4', 'Amazon Entry'],\n",
      "      dtype='object')\n",
      "✅ Extracted and cleaned content saved to output\\books_movies.csv\n"
     ]
    }
   ],
   "source": [
    "import os\n",
    "import pandas as pd\n",
    "import re\n",
    "\n",
    "# Paths\n",
    "input_folder = \"categories\"      # Folder containing the CSV files\n",
    "output_folder = \"output\"          # Folder to save the modified CSVs\n",
    "\n",
    "# Ensure output folder exists\n",
    "os.makedirs(output_folder, exist_ok=True)\n",
    "\n",
    "# Function to extract ( ) content, clean quotes, and spacing\n",
    "def extract_and_clean(text):\n",
    "    if pd.isna(text):  # Handle NaN values gracefully\n",
    "        return text\n",
    "\n",
    "    # Extract content inside parentheses\n",
    "    pattern = r\"\\((.*?)\\)\"\n",
    "    matches = re.findall(pattern, str(text))\n",
    "\n",
    "    if matches:\n",
    "        # Clean up: Remove extra quotes, spaces, and use single quotes only\n",
    "        cleaned_matches = [f\"'{m.strip()}'\" for m in matches]\n",
    "        return f\"[{', '.join(cleaned_matches)}]\"\n",
    "    \n",
    "    return text  # Return original if no match\n",
    "\n",
    "amazon_col_name = \"Amazon Entry\"\n",
    "\n",
    "# Iterate through all CSV files in the folder\n",
    "for file in os.listdir(input_folder):\n",
    "    if file.endswith(\".csv\"):\n",
    "        input_path = os.path.join(input_folder, file)\n",
    "        output_path = os.path.join(output_folder, f\"{os.path.splitext(file)[0]}.csv\")\n",
    "\n",
    "        # Read the CSV into a DataFrame\n",
    "        df = pd.read_csv(input_path)\n",
    "\n",
    "        # Check if \"Amazon Entry\" column exists\n",
    "        print(df.columns)\n",
    "        if amazon_col_name in df.columns:\n",
    "            # Apply the extraction and cleaning function\n",
    "            df[amazon_col_name] = df[amazon_col_name].apply(extract_and_clean)\n",
    "\n",
    "            # Save the modified CSV\n",
    "            df.to_csv(output_path, index=False)\n",
    "            print(f\"✅ Extracted and cleaned content saved to {output_path}\")\n",
    "        else:\n",
    "            print(f\"⚠️ No 'Amazon Entry' column found in {file}. Skipping...\")\n"
   ]
  }
 ],
 "metadata": {
  "kernelspec": {
   "display_name": ".venv",
   "language": "python",
   "name": "python3"
  },
  "language_info": {
   "codemirror_mode": {
    "name": "ipython",
    "version": 3
   },
   "file_extension": ".py",
   "mimetype": "text/x-python",
   "name": "python",
   "nbconvert_exporter": "python",
   "pygments_lexer": "ipython3",
   "version": "3.10.7"
  }
 },
 "nbformat": 4,
 "nbformat_minor": 2
}
